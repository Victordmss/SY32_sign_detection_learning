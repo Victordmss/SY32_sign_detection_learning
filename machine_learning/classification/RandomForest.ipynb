{
 "cells": [
  {
   "cell_type": "markdown",
   "metadata": {},
   "source": [
    "## Entrainement d'un modèle avec la méthode RandomTree"
   ]
  },
  {
   "cell_type": "code",
   "execution_count": 1,
   "metadata": {},
   "outputs": [],
   "source": [
    "import os\n",
    "import numpy as np\n",
    "import random\n",
    "from PIL import Image"
   ]
  },
  {
   "cell_type": "markdown",
   "metadata": {},
   "source": [
    "### 1) Fonctions de Preprocessing des datasets"
   ]
  },
  {
   "cell_type": "code",
   "execution_count": 2,
   "metadata": {},
   "outputs": [],
   "source": [
    "AVERAGE_SIZE_IMAGE = (127, 145)  # Thanks to the stats, we know that size of bbox will be (127, 145) -> Average size of labels \n",
    "\n",
    "def generate_empty_bbox(image_width, image_height):\n",
    "    \"\"\" \n",
    "    Generate an empty box for images without label\n",
    "    \"\"\"\n",
    "    # Generating random coords for the bbox\n",
    "    x_min = random.randint(0, image_width - AVERAGE_SIZE_IMAGE[0])\n",
    "    y_min = random.randint(0, image_height - AVERAGE_SIZE_IMAGE[1])\n",
    "    \n",
    "    # Compute complete coords of the bbox\n",
    "    x_max = x_min + AVERAGE_SIZE_IMAGE[0]\n",
    "    y_max = y_min + AVERAGE_SIZE_IMAGE[1]\n",
    "    \n",
    "    return (x_min, y_min, x_max, y_max)\n",
    "\n",
    "def load_data(image_dir, label_dir):\n",
    "    \"\"\" \n",
    "    Create a dict with all the usefull datas of the dataset\n",
    "    datas = {\n",
    "        \"XXXX\" (name of the file) : {\n",
    "            \"img\" : image as an array,\n",
    "            \"labels\" (data of the labels): {\n",
    "                \"X\" index of the label (0,1,...,n) : {\n",
    "                    \"name\" : name of the label,\n",
    "                    \"coord\" : coord of the label like xmin, ymin, xmax, ymax,\n",
    "                    \"img\" : crooped img of the label,\n",
    "                }\n",
    "            }\n",
    "        }\n",
    "    }\n",
    "    \"\"\"\n",
    "    \n",
    "    datas = {}\n",
    "\n",
    "    for image_file in os.listdir(image_dir):\n",
    "        # Computing name and files paths\n",
    "        image_path = image_dir + '/' + image_file\n",
    "        name = image_file.split('.')[0]\n",
    "        label_path = label_dir + '/' + name + '.csv'\n",
    "        \n",
    "        # Import image as array\n",
    "        image = np.array(Image.open(image_path))\n",
    "\n",
    "        # Import labels as array \n",
    "        with open(label_path, 'r') as file:\n",
    "            rows = file.readlines()\n",
    "\n",
    "            label_data = {}\n",
    "            if rows == ['\\n']:  # Create a random empty label to balance model\n",
    "                # Create random coords for empty label\n",
    "                xmin, ymin, xmax, ymax = generate_empty_bbox(image.shape[1], image.shape[0])\n",
    "    \n",
    "                # Get the cropped image (as array) of the label\n",
    "                cropped_image = np.array(Image.fromarray(image[ymin:ymax, xmin:xmax]).resize(AVERAGE_SIZE_IMAGE))\n",
    "               \n",
    "                label_data[0] = {\n",
    "                        \"name\":\"empty\",\n",
    "                        \"coord\": (xmin, ymin, xmax, ymax),\n",
    "                        \"img\":cropped_image\n",
    "                    }\n",
    "            else:\n",
    "                for i, row in enumerate(rows):  # One image can contain several labels\n",
    "                    row = row.strip().split(\",\")\n",
    "\n",
    "                    # Compute coords of the label\n",
    "                    xmin, ymin, xmax, ymax = map(int, row[0:4])\n",
    "\n",
    "                    # Get the label name\n",
    "                    class_name = row[4]\n",
    "\n",
    "                    # Get the cropped image (as array) of the label\n",
    "                    cropped_image = np.array(Image.fromarray(image[ymin:ymax, xmin:xmax]).resize(AVERAGE_SIZE_IMAGE))\n",
    "                    \n",
    "                    # Adding to the json\n",
    "                    label_data[i] = {\n",
    "                        \"name\":class_name,\n",
    "                        \"coord\": (xmin, ymin, xmax, ymax),\n",
    "                        \"img\":cropped_image\n",
    "                    }\n",
    "\n",
    "        datas[name] = {\n",
    "             \"img\" : image,\n",
    "             \"labels\" : label_data,\n",
    "        }\n",
    "       \n",
    "    return datas\n",
    "\n",
    "# Dict to convert str class name to int\n",
    "name_to_int = {\n",
    "    \"danger\": 0,\n",
    "    \"interdiction\": 1,\n",
    "    \"obligation\": 2,\n",
    "    \"stop\": 3,\n",
    "    \"ceder\": 4,\n",
    "    \"frouge\": 5,\n",
    "    \"forange\": 6,\n",
    "    \"fvert\": 7,\n",
    "    \"ff\": 8,\n",
    "    \"empty\": 9\n",
    "}"
   ]
  },
  {
   "cell_type": "markdown",
   "metadata": {},
   "source": [
    "### 2) Fonction de création des datasets"
   ]
  },
  {
   "cell_type": "code",
   "execution_count": 3,
   "metadata": {},
   "outputs": [],
   "source": [
    "def create_xy(datas):\n",
    "    # Creating arrays with all labels datas & classes\n",
    "    X = []\n",
    "    Y = []\n",
    "\n",
    "    for name, data in datas.items():\n",
    "        for row in data[\"labels\"].values():\n",
    "            image_as_array = np.array(row[\"img\"]).flatten()\n",
    "            X.append(image_as_array)\n",
    "            Y.append(name_to_int[row[\"name\"]])\n",
    "\n",
    "    X = np.array(X)\n",
    "    Y = np.array(Y)\n",
    "\n",
    "    return X, Y"
   ]
  },
  {
   "cell_type": "markdown",
   "metadata": {},
   "source": [
    "### 3) Création des datasets"
   ]
  },
  {
   "cell_type": "code",
   "execution_count": 4,
   "metadata": {},
   "outputs": [],
   "source": [
    "# Training dataset\n",
    "datas_train = load_data(\"../../data/train/images\", \"../../data/train/labels\")\n",
    "X_train, Y_train = create_xy(datas=datas_train)\n",
    "\n",
    "# Validation dataset\n",
    "datas_val = load_data(\"../../data/val/images\", \"../../data/val/labels\")\n",
    "X_val, Y_val = create_xy(datas=datas_val)"
   ]
  },
  {
   "cell_type": "markdown",
   "metadata": {},
   "source": [
    "### 4) Application de la méthode RandomTree"
   ]
  },
  {
   "cell_type": "code",
   "execution_count": 32,
   "metadata": {},
   "outputs": [
    {
     "name": "stdout",
     "output_type": "stream",
     "text": [
      "Taux d'erreur : 0.20168067226890757\n"
     ]
    }
   ],
   "source": [
    "from sklearn.ensemble import RandomForestClassifier\n",
    "\n",
    "clf = RandomForestClassifier(n_estimators=50) # To change\n",
    "clf.fit(X_train, Y_train)\n",
    "y = clf.predict(X_val)\n",
    "\n",
    "print(f\"Taux d'erreur : {np.mean(y != Y_val)}\")"
   ]
  },
  {
   "cell_type": "markdown",
   "metadata": {},
   "source": [
    "### 5) Test de la méthode RandomTree avec application des caractéristiques HOG"
   ]
  },
  {
   "cell_type": "code",
   "execution_count": 6,
   "metadata": {},
   "outputs": [],
   "source": [
    "from skimage.feature import hog\n",
    "from skimage.color import rgb2gray\n",
    "\n",
    "def extract_hog(datas):\n",
    "    # Creating X array with all HOG information of images\n",
    "    X = []\n",
    "\n",
    "    for name, data in datas.items():\n",
    "        for row in data[\"labels\"].values():\n",
    "            image_as_array = np.array(hog(rgb2gray(row[\"img\"]))).flatten()\n",
    "            X.append(image_as_array)\n",
    "\n",
    "    return np.array(X)\n",
    "\n",
    "\n",
    "# Update training dataset\n",
    "X_train_HOG = extract_hog(datas=datas_train)\n",
    "\n",
    "# Update validation dataset\n",
    "X_val_HOG = extract_hog(datas=datas_val)"
   ]
  },
  {
   "cell_type": "code",
   "execution_count": 38,
   "metadata": {},
   "outputs": [
    {
     "name": "stdout",
     "output_type": "stream",
     "text": [
      "Taux d'erreur : 0.18487394957983194\n"
     ]
    }
   ],
   "source": [
    "clf = RandomForestClassifier(n_estimators=90)\n",
    "clf.fit(X_train_HOG, Y_train)\n",
    "y_HOG = clf.predict(X_val_HOG)\n",
    "\n",
    "print(f\"Taux d'erreur : {np.mean(y_HOG != Y_val)}\")"
   ]
  },
  {
   "cell_type": "markdown",
   "metadata": {},
   "source": [
    "### 6) Détermination du meilleur paramètre"
   ]
  },
  {
   "cell_type": "code",
   "execution_count": 35,
   "metadata": {},
   "outputs": [
    {
     "data": {
      "image/png": "[encoded data removed]",
      "text/plain": [
       "<Figure size 640x480 with 1 Axes>"
      ]
     },
     "metadata": {},
     "output_type": "display_data"
    },
    {
     "name": "stdout",
     "output_type": "stream",
     "text": [
      "[0.5126050420168067, 0.23529411764705882, 0.20168067226890757, 0.18487394957983194, 0.19327731092436976, 0.19327731092436976, 0.16806722689075632, 0.18487394957983194, 0.15126050420168066, 0.17647058823529413]\n",
      "Taux d'erreur : 0.17647058823529413\n"
     ]
    }
   ],
   "source": [
    "import matplotlib.pyplot as plt\n",
    "\n",
    "tab = []\n",
    "\n",
    "for i in range(1, 100, 10):\n",
    "    clf = RandomForestClassifier(n_estimators=i) # To change\n",
    "    clf.fit(X_train, Y_train)\n",
    "    y = clf.predict(X_val)\n",
    "    tab.append(np.mean(y != Y_val))\n",
    "\n",
    "plt.bar(range(len(tab)), tab, color='skyblue')\n",
    "plt.show()\n",
    "\n",
    "print(tab)\n",
    "print(f\"Taux d'erreur : {np.mean(y != Y_val)}\")"
   ]
  },
  {
   "cell_type": "code",
   "execution_count": 40,
   "metadata": {},
   "outputs": [
    {
     "data": {
      "image/png": "[encoded data removed]",
      "text/plain": [
       "<Figure size 640x480 with 1 Axes>"
      ]
     },
     "metadata": {},
     "output_type": "display_data"
    },
    {
     "name": "stdout",
     "output_type": "stream",
     "text": [
      "[0.5042016806722689, 0.2605042016806723, 0.20168067226890757, 0.18487394957983194, 0.226890756302521, 0.18487394957983194, 0.18487394957983194, 0.16806722689075632, 0.21008403361344538, 0.16806722689075632]\n",
      "Taux d'erreur : 0.17647058823529413\n"
     ]
    }
   ],
   "source": [
    "tab = []\n",
    "\n",
    "for i in range(1, 100, 10):\n",
    "    clf = RandomForestClassifier(n_estimators=i)\n",
    "    clf.fit(X_train_HOG, Y_train)\n",
    "    y_HOG = clf.predict(X_val_HOG)\n",
    "    tab.append(np.mean(y_HOG != Y_val))\n",
    "\n",
    "plt.bar(range(len(tab)), tab, color='skyblue')\n",
    "plt.show()\n",
    "\n",
    "print(tab)\n",
    "print(f\"Taux d'erreur : {np.mean(y != Y_val)}\")"
   ]
  }
 ],
 "metadata": {
  "kernelspec": {
   "display_name": "venv",
   "language": "python",
   "name": "python3"
  },
  "language_info": {
   "codemirror_mode": {
    "name": "ipython",
    "version": 3
   },
   "file_extension": ".py",
   "mimetype": "text/x-python",
   "name": "python",
   "nbconvert_exporter": "python",
   "pygments_lexer": "ipython3",
   "version": "3.12.2"
  }
 },
 "nbformat": 4,
 "nbformat_minor": 2
}
