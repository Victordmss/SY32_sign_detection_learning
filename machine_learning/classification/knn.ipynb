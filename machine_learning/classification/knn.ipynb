{
 "cells": [
  {
   "cell_type": "markdown",
   "metadata": {},
   "source": [
    "## Entrainement d'un modèle avec la méthode Knn"
   ]
  },
  {
   "cell_type": "code",
   "execution_count": 10,
   "metadata": {},
   "outputs": [],
   "source": [
    "import os\n",
    "import numpy as np\n",
    "import random\n",
    "from PIL import Image\n",
    "import matplotlib.pyplot as plt"
   ]
  },
  {
   "cell_type": "markdown",
   "metadata": {},
   "source": [
    "### 1) Fonctions de Preprocessing des datasets"
   ]
  },
  {
   "cell_type": "code",
   "execution_count": 11,
   "metadata": {},
   "outputs": [],
   "source": [
    "AVERAGE_SIZE_IMAGE = (127, 145)  # Thanks to the stats, we know that size of bbox will be (127, 145) -> Average size of labels \n",
    "\n",
    "def generate_empty_bbox(image_width, image_height):\n",
    "    \"\"\" \n",
    "    Generate an empty box for images without label\n",
    "    \"\"\"\n",
    "    # Generating random coords for the bbox\n",
    "    x_min = random.randint(0, image_width - AVERAGE_SIZE_IMAGE[0])\n",
    "    y_min = random.randint(0, image_height - AVERAGE_SIZE_IMAGE[1])\n",
    "    \n",
    "    # Compute complete coords of the bbox\n",
    "    x_max = x_min + AVERAGE_SIZE_IMAGE[0]\n",
    "    y_max = y_min + AVERAGE_SIZE_IMAGE[1]\n",
    "    \n",
    "    return (x_min, y_min, x_max, y_max)\n",
    "\n",
    "def load_data(image_dir, label_dir):\n",
    "    \"\"\" \n",
    "    Create a dict with all the usefull datas of the dataset\n",
    "    datas = {\n",
    "        \"XXXX\" (name of the file) : {\n",
    "            \"img\" : image as an array,\n",
    "            \"labels\" (data of the labels): {\n",
    "                \"X\" index of the label (0,1,...,n) : {\n",
    "                    \"name\" : name of the label,\n",
    "                    \"coord\" : coord of the label like xmin, ymin, xmax, ymax,\n",
    "                    \"img\" : crooped img of the label,\n",
    "                }\n",
    "            }\n",
    "        }\n",
    "    }\n",
    "    \"\"\"\n",
    "    \n",
    "    datas = {}\n",
    "\n",
    "    for image_file in os.listdir(image_dir):\n",
    "        # Computing name and files paths\n",
    "        image_path = image_dir + '/' + image_file\n",
    "        name = image_file.split('.')[0]\n",
    "        label_path = label_dir + '/' + name + '.csv'\n",
    "        \n",
    "        # Import image as array\n",
    "        image = np.array(Image.open(image_path))\n",
    "\n",
    "        # Import labels as array \n",
    "        with open(label_path, 'r') as file:\n",
    "            rows = file.readlines()\n",
    "\n",
    "            label_data = {}\n",
    "            if rows == ['\\n']:  # Create a random empty label to balance model\n",
    "                # Create random coords for empty label\n",
    "                xmin, ymin, xmax, ymax = generate_empty_bbox(image.shape[1], image.shape[0])\n",
    "    \n",
    "                # Get the cropped image (as array) of the label\n",
    "                cropped_image = np.array(Image.fromarray(image[ymin:ymax, xmin:xmax]).resize(AVERAGE_SIZE_IMAGE))\n",
    "               \n",
    "                label_data[0] = {\n",
    "                        \"name\":\"empty\",\n",
    "                        \"coord\": (xmin, ymin, xmax, ymax),\n",
    "                        \"img\":cropped_image\n",
    "                    }\n",
    "            else:\n",
    "                for i, row in enumerate(rows):  # One image can contain several labels\n",
    "                    row = row.strip().split(\",\")\n",
    "\n",
    "                    # Compute coords of the label\n",
    "                    xmin, ymin, xmax, ymax = map(int, row[0:4])\n",
    "\n",
    "                    # Get the label name\n",
    "                    class_name = row[4]\n",
    "\n",
    "                    # Get the cropped image (as array) of the label\n",
    "                    cropped_image = np.array(Image.fromarray(image[ymin:ymax, xmin:xmax]).resize(AVERAGE_SIZE_IMAGE))\n",
    "                    \n",
    "                    # Adding to the json\n",
    "                    label_data[i] = {\n",
    "                        \"name\":class_name,\n",
    "                        \"coord\": (xmin, ymin, xmax, ymax),\n",
    "                        \"img\":cropped_image\n",
    "                    }\n",
    "\n",
    "        datas[name] = {\n",
    "             \"img\" : image,\n",
    "             \"labels\" : label_data,\n",
    "        }\n",
    "       \n",
    "    return datas\n",
    "\n",
    "# Dict to convert str class name to int\n",
    "name_to_int = {\n",
    "    \"danger\": 0,\n",
    "    \"interdiction\": 1,\n",
    "    \"obligation\": 2,\n",
    "    \"stop\": 3,\n",
    "    \"ceder\": 4,\n",
    "    \"frouge\": 5,\n",
    "    \"forange\": 6,\n",
    "    \"fvert\": 7,\n",
    "    \"ff\": 8,\n",
    "    \"empty\": 9\n",
    "}"
   ]
  },
  {
   "cell_type": "markdown",
   "metadata": {},
   "source": [
    "### 2) Fonction de création des datasets"
   ]
  },
  {
   "cell_type": "code",
   "execution_count": 12,
   "metadata": {},
   "outputs": [],
   "source": [
    "def create_xy(datas):\n",
    "    # Creating arrays with all labels datas & classes\n",
    "    X = []\n",
    "    Y = []\n",
    "\n",
    "    for name, data in datas.items():\n",
    "        for row in data[\"labels\"].values():\n",
    "            image_as_array = np.array(row[\"img\"]).flatten()\n",
    "            X.append(image_as_array)\n",
    "            Y.append(name_to_int[row[\"name\"]])\n",
    "\n",
    "    X = np.array(X)\n",
    "    Y = np.array(Y)\n",
    "\n",
    "    return X, Y"
   ]
  },
  {
   "cell_type": "markdown",
   "metadata": {},
   "source": [
    "### 3) Création des datasets"
   ]
  },
  {
   "cell_type": "code",
   "execution_count": 13,
   "metadata": {},
   "outputs": [],
   "source": [
    "# Training dataset\n",
    "datas_train = load_data(\"../../data/train/images\", \"../../data/train/labels\")\n",
    "X_train, Y_train = create_xy(datas=datas_train)\n",
    "\n",
    "# Validation dataset\n",
    "datas_val = load_data(\"../../data/val/images\", \"../../data/val/labels\")\n",
    "X_val, Y_val = create_xy(datas=datas_val)"
   ]
  },
  {
   "cell_type": "markdown",
   "metadata": {},
   "source": [
    "### 4) Application de la méthode Knn"
   ]
  },
  {
   "cell_type": "code",
   "execution_count": 14,
   "metadata": {},
   "outputs": [
    {
     "name": "stdout",
     "output_type": "stream",
     "text": [
      "Taux d'erreur : 0.31092436974789917\n"
     ]
    }
   ],
   "source": [
    "from sklearn.neighbors import KNeighborsClassifier\n",
    "\n",
    "clf = KNeighborsClassifier(n_neighbors=5) # To change\n",
    "clf.fit(X_train, Y_train)\n",
    "y = clf.predict(X_val)\n",
    "\n",
    "print(f\"Taux d'erreur : {np.mean(y != Y_val)}\")"
   ]
  },
  {
   "cell_type": "markdown",
   "metadata": {},
   "source": [
    "### 5) Test de la méthode Knn avec application des caractéristiques HOG"
   ]
  },
  {
   "cell_type": "code",
   "execution_count": 15,
   "metadata": {},
   "outputs": [],
   "source": [
    "from skimage.feature import hog\n",
    "from skimage.color import rgb2gray\n",
    "\n",
    "def extract_hog(datas):\n",
    "    # Creating X array with all HOG information of images\n",
    "    X = []\n",
    "\n",
    "    for name, data in datas.items():\n",
    "        for row in data[\"labels\"].values():\n",
    "            image_as_array = np.array(hog(rgb2gray(row[\"img\"]))).flatten()\n",
    "            X.append(image_as_array)\n",
    "\n",
    "    return np.array(X)\n",
    "\n",
    "\n",
    "# Update training dataset\n",
    "X_train_HOG = extract_hog(datas=datas_train)\n",
    "\n",
    "# Update validation dataset\n",
    "X_val_HOG = extract_hog(datas=datas_val)"
   ]
  },
  {
   "cell_type": "code",
   "execution_count": 16,
   "metadata": {},
   "outputs": [
    {
     "name": "stdout",
     "output_type": "stream",
     "text": [
      "Taux d'erreur : 0.17647058823529413\n"
     ]
    }
   ],
   "source": [
    "clf = KNeighborsClassifier(n_neighbors=8)\n",
    "clf.fit(X_train_HOG, Y_train)\n",
    "y_HOG = clf.predict(X_val_HOG)\n",
    "\n",
    "print(f\"Taux d'erreur : {np.mean(y_HOG != Y_val)}\")"
   ]
  },
  {
   "cell_type": "markdown",
   "metadata": {},
   "source": [
    "### 6) Test avec concaténation des informations de couleur"
   ]
  },
  {
   "cell_type": "code",
   "execution_count": 18,
   "metadata": {},
   "outputs": [],
   "source": [
    "from skimage.color import rgb2hsv\n",
    "\n",
    "def extract_color_features(datas):\n",
    "    # Creating X array with all HOG information of images\n",
    "    X = []\n",
    "\n",
    "    for name, data in datas.items():\n",
    "        for row in data[\"labels\"].values():\n",
    "            # Convertir l'image en espace colorimétrique HSV\n",
    "            hsv_image = rgb2hsv(row[\"img\"])\n",
    "\n",
    "            # Calculer l'histogramme de couleur pour chaque canal\n",
    "            hue_hist = np.histogram(hsv_image[:,:,0], bins=10, range=(0, 1), density=True)[0]\n",
    "            saturation_hist = np.histogram(hsv_image[:,:,1], bins=10, range=(0, 1), density=True)[0]\n",
    "            value_hist = np.histogram(hsv_image[:,:,2], bins=10, range=(0, 1), density=True)[0]\n",
    "\n",
    "            # Concaténer les histogrammes de couleur\n",
    "            color_features = np.concatenate((hue_hist, saturation_hist, value_hist))\n",
    "\n",
    "            X.append(color_features)\n",
    "\n",
    "    return np.array(X)\n",
    "\n",
    "\n",
    "# Update training dataset\n",
    "X_train_COLORS = extract_color_features(datas=datas_train)\n",
    "\n",
    "# Update validation dataset\n",
    "X_val_COLORS = extract_color_features(datas=datas_val)"
   ]
  },
  {
   "cell_type": "code",
   "execution_count": 34,
   "metadata": {},
   "outputs": [
    {
     "name": "stdout",
     "output_type": "stream",
     "text": [
      "Taux d'erreur : 0.11764705882352941\n"
     ]
    }
   ],
   "source": [
    "X_train_combined = np.concatenate((X_train_HOG, X_train_COLORS), axis=1)\n",
    "X_val_combined = np.concatenate((X_val_HOG, X_val_COLORS), axis=1)\n",
    "\n",
    "clf = KNeighborsClassifier(n_neighbors=7) \n",
    "clf.fit(X_train_combined, Y_train)\n",
    "y_combined = clf.predict(X_val_combined)\n",
    "\n",
    "print(f\"Taux d'erreur : {np.mean(y_combined != Y_val)}\")"
   ]
  },
  {
   "cell_type": "markdown",
   "metadata": {},
   "source": [
    "### 7) Test des meilleurs paramètres à utiliser :"
   ]
  },
  {
   "cell_type": "code",
   "execution_count": 38,
   "metadata": {},
   "outputs": [
    {
     "data": {
      "image/png": "[encoded data removed]",
      "text/plain": [
       "<Figure size 640x480 with 1 Axes>"
      ]
     },
     "metadata": {},
     "output_type": "display_data"
    },
    {
     "name": "stdout",
     "output_type": "stream",
     "text": [
      "[0.18487394957983194, 0.16806722689075632, 0.11764705882352941, 0.13445378151260504, 0.12605042016806722, 0.12605042016806722, 0.11764705882352941, 0.13445378151260504, 0.14285714285714285, 0.14285714285714285, 0.13445378151260504, 0.14285714285714285, 0.13445378151260504, 0.13445378151260504, 0.15966386554621848, 0.14285714285714285, 0.15966386554621848, 0.15126050420168066, 0.15966386554621848]\n",
      "Taux d'erreur minimum : 0.11764705882352941\n"
     ]
    }
   ],
   "source": [
    "tab = []\n",
    "\n",
    "for i in range(1, 20, 1):\n",
    "    clf = KNeighborsClassifier(n_neighbors=i)\n",
    "    clf.fit(X_train_combined, Y_train)\n",
    "    y_combined = clf.predict(X_val_combined)\n",
    "    tab.append(np.mean(y_combined != Y_val))\n",
    "\n",
    "plt.bar(range(len(tab)), tab, color='skyblue')\n",
    "plt.show()\n",
    "\n",
    "print(tab)\n",
    "print(f\"Taux d'erreur minimum : {min(tab)}\")"
   ]
  }
 ],
 "metadata": {
  "kernelspec": {
   "display_name": "Python 3",
   "language": "python",
   "name": "python3"
  },
  "language_info": {
   "codemirror_mode": {
    "name": "ipython",
    "version": 3
   },
   "file_extension": ".py",
   "mimetype": "text/x-python",
   "name": "python",
   "nbconvert_exporter": "python",
   "pygments_lexer": "ipython3",
   "version": "3.12.2"
  }
 },
 "nbformat": 4,
 "nbformat_minor": 2
}
